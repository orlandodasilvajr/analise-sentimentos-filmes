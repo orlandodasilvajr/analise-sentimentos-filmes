{
 "cells": [
  {
   "cell_type": "markdown",
   "metadata": {},
   "source": [
    "# Análise de Sentimentos - R"
   ]
  },
  {
   "cell_type": "markdown",
   "metadata": {},
   "source": [
    "Ideia base: construir um classificador de sentimentos para comentários de filmes (em inglês)."
   ]
  },
  {
   "cell_type": "markdown",
   "metadata": {},
   "source": [
    "## Revisão\n",
    "\n",
    "Em razão do uso do conjunto _sentence-polarity_, convém verificar inicialmente a abordagem empregada no artigo original [1]. No artigo, os autores investigam a categorização multiclasses de textos adotando uma escala de múltiplos itens. Nessa investigação são aplicados os algoritmos Naïve Bayes e SVM.\n",
    "\n",
    "Outro artigo dos autores [2] também foi estudado, uma vez que explora diferentes algoritmos de Aprendizado de Máquina (AM). No estudo, três algoritmos clássicos (_Naïve_ Bayes, SVM e um classificador de máxima entropia) são comparados com um baseline produzido por um humano para classificar documentos conforme o sentimento. \n",
    "\n",
    "Além disso, por se tratar de um problema com distintas resoluções possíveis, dois surveys [3, 4] foram estudados a fim de atualizarem conceitos básicos em Processamento de Linguagem Natural (PLN) e mostrarem um caminho mais simples para o alcance do objetivo."
   ]
  },
  {
   "cell_type": "markdown",
   "metadata": {
    "collapsed": true
   },
   "source": [
    "## Metodologia\n",
    "\n",
    "Esta seção descreve em detalhes a abordagem experimental a ser adotada.\n",
    "\n",
    "\n",
    "### Procedimentos Iniciais\n",
    "\n",
    "Inicialmente será necessário realizar a carga dos conjuntos com sentimentos positivos e negativos em memória. Como o conteúdo dos arquivos apresenta apenas os textos, cada exemplo será rotulado como positivo ou negativo, identificando o sentimento correspondente. Por fim, os dados deverão ser mesclados a fim de formarem um único corpus linguístico. O conjunto deve ser formado por dois atributos: o texto e o sentimento, com igual distribuição entre positivos e negativos.\n",
    "\n",
    "### Conjuntos de Treinamento e Teste\n",
    "\n",
    "Em seguida, o conjunto deverá ser divido em dois subconjuntos, um para treinamento e outro para teste. Por motivos de simplicidade e experimentação inicial, optou-se por reservar p = 2/3 do conjunto para (1 - p) para validação do modelo. Essa reserva consiste em uma amostragem aleatório mantendo a distribuição original dos dados (_holdout_).\n",
    "\n",
    "### Geração do Corpus\n",
    "\n",
    "Após a criação dos subconjuntos de treinamento e teste, será necessário unir os corpora de ambos para treinamento. Esse procedimento é realizado para que o algoritmo de AM possa mapear todas as palavras em seu espaço de características.\n",
    "\n",
    "Com o corpus gerado, os seguintes procedimentos serão adotados para tratamento das informações textuais: \n",
    "(1) padronização de todas as palavras pela conversão de todos os caracteres para caixa baixa; \n",
    "(2) remoção de números, pontuações e espaços em branco excessivos; e\n",
    "(3) remoção de _stop words_ (palavras que não agregam informação);\n",
    "\n",
    "Em seguida, uma matriz de documentos e termos será gerada com o corpus pré-processado. A matriz será analisada para identificar seu tamanho (por questões de memória), esparsidade (quantidade de células vazias) e palavras com maior frequência. No caso de alta esparsidade (o que é comum em PLN), será empregado inicialmente o método mais simples para tratamento, que é a remoção dos termos menos utilizados.\n",
    "\n",
    "### Processo de Aprendizado\n",
    "\n",
    "Um novo conjunto será preparado para uso em AM. A matriz de documentos e termos será separada em treinamento e teste, conforme divisão realizada anteriormente. A matriz de treinamento, ainda, agregará os rótulos do conjunto original.\n",
    "\n",
    "Por experiência pessoal e revisão de literatura, optou-se pelo uso do algoritmo SVM para realizar a classificação de sentimentos do corpus. Optou-se ainda por compará-lo com outro algoritmo clássico de mineração de textos, o _Naïve_ Bayes. Ambos os algoritmos serão utilizados em suas configurações _default_ na plataforma R (_package_ e1071).\n",
    "\n",
    "Após a geração do modelo, este será aplicado nos dados do subconjunto de teste, que não estão rotulados, a fim de serem classificados. Assim que todos os exemplos forem classificados pelo algoritmo, uma análise será realizada sobre os dados de teste. Nessa análise, verificar-se-á a acurácia do modelo em rotular novos dados. Para isto, será utilizada a matriz de confusão, cruzando os dados originais e os dados preditos. A soma da diagonal principal da matriz divivida pela quantidade total de elementos nela resultará na acurácia do modelo.\n",
    "\n",
    "Por fim, os dados classificados serão verificados a olho nu a precisão da classificação. Essa análise não computacional indicará a eficácia do modelo em categorizar sentimentos a partir de comentários sobre filmes."
   ]
  },
  {
   "cell_type": "markdown",
   "metadata": {},
   "source": [
    "# Referências\n",
    "\n",
    "[1] PANG, Bo; LEE, Lillian. Seeing stars: Exploiting class relationships for sentiment categorization with respect to rating scales. In: Proceedings of the 43rd annual meeting on association for computational linguistics. Association for Computational Linguistics, 2005. p. 115-124.\n",
    "\n",
    "[2] PANG, Bo; LEE, Lillian; VAITHYANATHAN, Shivakumar. Thumbs up?: sentiment classification using machine learning techniques. In: Proceedings of the ACL-02 conference on Empirical methods in natural language processing-Volume 10. Association for Computational Linguistics, 2002. p. 79-86.\n",
    "\n",
    "[3] RAVI, Kumar; RAVI, Vadlamani. A survey on opinion mining and sentiment analysis: tasks, approaches and applications. Knowledge-Based Systems, v. 89, p. 14-46, 2015.\n",
    "\n",
    "[4] TANG, Huifeng; TAN, Songbo; CHENG, Xueqi. A survey on sentiment detection of reviews. Expert Systems with Applications, v. 36, n. 7, p. 10760-10773, 2009."
   ]
  }
 ],
 "metadata": {
  "kernelspec": {
   "display_name": "R",
   "language": "R",
   "name": "ir"
  },
  "language_info": {
   "codemirror_mode": "r",
   "file_extension": ".r",
   "mimetype": "text/x-r-source",
   "name": "R",
   "pygments_lexer": "r",
   "version": "3.3.2"
  }
 },
 "nbformat": 4,
 "nbformat_minor": 2
}
